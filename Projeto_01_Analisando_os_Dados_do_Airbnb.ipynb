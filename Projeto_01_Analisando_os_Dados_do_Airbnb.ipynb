{
  "nbformat": 4,
  "nbformat_minor": 0,
  "metadata": {
    "colab": {
      "provenance": [],
      "collapsed_sections": [
        "kLI0gJtzDGuQ"
      ],
      "include_colab_link": true
    },
    "kernelspec": {
      "name": "python3",
      "display_name": "Python 3"
    }
  },
  "cells": [
    {
      "cell_type": "markdown",
      "metadata": {
        "id": "view-in-github",
        "colab_type": "text"
      },
      "source": [
        "<a href=\"https://colab.research.google.com/github/Tha-Helena/Analise_de_Dados_Airbnb_Buenos_Aires/blob/main/Projeto_01_Analisando_os_Dados_do_Airbnb.ipynb\" target=\"_parent\"><img src=\"https://colab.research.google.com/assets/colab-badge.svg\" alt=\"Open In Colab\"/></a>"
      ]
    },
    {
      "cell_type": "markdown",
      "metadata": {
        "id": "kLI0gJtzDGuQ"
      },
      "source": [
        "<img alt=\"Colaboratory logo\" width=\"15%\" src=\"https://raw.githubusercontent.com/carlosfab/escola-data-science/master/img/novo_logo_bg_claro.png\">\n",
        "\n",
        "#### **Data Science na Prática 3.0**\n",
        "*by [sigmoidal.ai](https://sigmoidal.ai)*\n",
        "\n",
        "---\n",
        "\n",
        "# Análise dos Dados do Airbnb - *Buenos Aires*\n",
        "\n",
        "<center><img alt=\"Analisando Airbnb\" width=\"70%\" src=\"https://www.daninoce.com.br/wp-content/uploads/2018/01/o-que-voce-precisa-saber-antes-de-ir-a-buenos-aires-dani-noce-imagem-destaque-960x625.jpg\"></center>\n",
        "\n",
        "[Airbnb](https://www.airbnb.com.br/) é uma plataforma online para hospedagens de curta duração que permite aos usuários alugar casas, apartamentos ou quartos em todo o mundo. A plataforma foi fundada em 2008 e desde então tem crescido rapidamente. No final de 2018, a Startup fundada 10 anos atrás, já havia **hospedado mais de 300 milhões** de pessoas em todo o mundo, oferecendo aos viajantes uma alternativa mais acessível em relação aos hotéis tradicionais.\n",
        "\n",
        "\n",
        "Os anfitriões podem listar suas propriedades na plataforma e definir suas próprias regras e preços. Os hóspedes podem procurar propriedades em todo o mundo e reservar a opção que melhor se adequar a suas necessidades. A plataforma também oferece ferramentas para ajudar os anfitriões e hóspedes a se comunicarem com garantias de segurança para proteger ambas as partes, incluindo avaliações de outros viajantes e suporte 24 horas por dia.\n",
        "\n",
        "\n",
        "O Airbnb é uma maneira conveniente e acessível de viajar, permitindo que você experimente a verdadeira cultura local. Além oferecer aos anfitriões a oportunidade de ganhar dinheiro ao alugar suas propriedades quando não as estiverem usando.\n",
        "\n",
        "\n",
        "**Buenos Aires** é a capital da Argentina conhecida por sua cultura e combinação única de arte, música, comida, história e paisagem, Buenos Aires é uma cidade vibrante e cosmopolita que atrai turistas de todo o mundo. \n",
        "\n",
        "\n",
        "A cidade tem muito a oferecer aos turistas, onde existem muitos imóveis disponíveis na plataforma Airbnb. Desde quartos compartilhados até casas inteiras, os viajantes têm uma ampla escolha de opções para acomodações em diferentes bairros da cidade.\n",
        "\n",
        "**Os regulamentos para aluguel** de curta duração em Buenos Aires podem variar, e pode haver regulamentos específicos para diferentes bairros ou zonas da cidade. Alguns regulamentos comuns incluem:\n",
        "* Limitações de tempo\n",
        "* Taxas\n",
        "* Normas de segurança\n",
        "\n",
        "Estes são apenas exemplos comuns, e os regulamentos exatos podem variar. É importante que os anfitriões consultem as autoridades locais para obter informações precisas e atualizadas sobre os regulamentos.\n",
        "\n",
        "\n",
        "Uma das iniciativas do Airbnb é disponibilizar dados do site, para algumas das principais cidades do mundo. Por meio do portal [Inside Airbnb](http://insideairbnb.com/get-the-data.html), é possível baixar uma grande quantidade de dados para desenvolver projetos e soluções de *Data Science*.\n",
        "\n",
        "<center><img alt=\"Analisando Airbnb\" width=\"10%\" src=\"https://upload.wikimedia.org/wikipedia/commons/thumb/6/69/Airbnb_Logo_B%C3%A9lo.svg/2560px-Airbnb_Logo_B%C3%A9lo.svg.png\"></center>\n",
        "\n",
        "**Neste *notebook*, iremos analisar os dados referentes à cidade Buenos Aires, e ver quais insights podem ser extraídos a partir de dados brutos.**"
      ]
    },
    {
      "cell_type": "markdown",
      "metadata": {
        "id": "0zxQHhIUDF_2"
      },
      "source": [
        "## Obtenção dos Dados\n",
        "\n",
        "Todos os dados usados aqui foram obtidos a partir do site [Inside Airbnb](http://insideairbnb.com/get-the-data.html).\n",
        "\n",
        "Para esta análise exploratória inicial, será baixado apenas o seguinte arquivo:\n",
        "\n",
        "* `listings.csv` - *Summary information and metrics for listings in Buenos Aires (good for visualisations)..*\n",
        "\n",
        "Importante: O portal está em constante evolução, e em determinado momento, pode ser que o [conjunto de dados](http://data.insideairbnb.com/brazil/rj/rio-de-janeiro/2021-04-26/visualisations/listings.csv) exato utilizado nesse notebook não esteja mais disponível, o que quebraria o código.\n",
        "\n",
        "Com isso, vamos ao projeto"
      ]
    },
    {
      "cell_type": "code",
      "metadata": {
        "id": "Vhp2wMPgJ6zX"
      },
      "source": [
        "# importar os pacotes necessarios\n",
        "import pandas as pd\n",
        "import matplotlib.pyplot as plt\n",
        "import seaborn as sns\n",
        "\n",
        "%matplotlib inline"
      ],
      "execution_count": 2,
      "outputs": []
    },
    {
      "cell_type": "code",
      "metadata": {
        "id": "tUmoAT8DLQ5T"
      },
      "source": [
        "# importar o arquivo listings.csv para um DataFrame\n",
        "df = pd.read_csv(\"http://data.insideairbnb.com/argentina/ciudad-aut%C3%B3noma-de-buenos-aires/buenos-aires/2022-12-29/visualisations/listings.csv\")"
      ],
      "execution_count": 3,
      "outputs": []
    },
    {
      "cell_type": "markdown",
      "metadata": {
        "id": "qb5By2nIMS6m"
      },
      "source": [
        "## Análise dos Dados\n",
        "\n",
        "Vamos começar com um dicionário para facilitar o entendimento dos dados usados na análise"
      ]
    },
    {
      "cell_type": "markdown",
      "metadata": {
        "id": "RYgvuebKNg8-"
      },
      "source": [
        "**Dicionário das variáveis**\n",
        "\n",
        "* `id` - Número gerado para identificação do imóvel\n",
        "* `name` - Nome do imóvel anunciado \n",
        "* `host_id` - Número de identificação do proprietário (anfitrião) do imóvel\n",
        "* `host_name` - Nome do anfitrião\n",
        "* `neighbourhood_group` -  esta coluna não contém nenhum valor válido\n",
        "* `neighbourhood` - Nome do bairro\n",
        "* `latitude` - coordenada da latitude da propriedade\n",
        "* `longitude` - coordenada da longitude da propriedade\n",
        "* `room_type` - Tipo de lugar que está disponível para aluguel\n",
        "* `price` - Preço da diária para o aluguel do imóvel\n",
        "* `minimim_nights` - Quantidade mínima de noites para efetuar a reserva\n",
        "* `number_of_reviews` - Número de avaliações que o proprietário possui \n",
        "* `last_review` - Data da última avaliação\n",
        "* `reviews_per_month` - Quantidade de avaliações por mês\n",
        "* `calculated_host_listings_count` - Quantidade de imóveis do mesmo anfitrião\n",
        "* `availability_365` - Disponibilidade para aluguel dentro de 365 dias\n",
        "* `number_of_reviews_ltm` - Número de avaliações dos últimos 12 meses\n",
        "* `license` - Registro comercial que o anfitrião faz junto ao governo local (Esse registro só é obrigatório em algumas jurisdições)\n",
        "\n",
        "\n",
        "\n",
        "Antes de iniciar qualquer análise, vamos verificar as informações que temos nosso *dataset* (conjunto de dados), analisando as 5 primeiras e as 5 últimas entradas."
      ]
    },
    {
      "cell_type": "code",
      "metadata": {
        "id": "2iS_dae7YQtO",
        "colab": {
          "base_uri": "https://localhost:8080/",
          "height": 600
        },
        "outputId": "739fa1ea-1d53-467c-9fd2-f04584b3bca0"
      },
      "source": [
        "# mostrar as 5 primeiras entradas\n",
        "df.head()"
      ],
      "execution_count": 4,
      "outputs": [
        {
          "output_type": "execute_result",
          "data": {
            "text/plain": [
              "       id                                          name   host_id host_name  \\\n",
              "0   11508            Amazing Luxurious Apt-Palermo Soho     42762   Candela   \n",
              "1   14222  RELAX IN HAPPY HOUSE - PALERMO, BUENOS AIRES  87710233     María   \n",
              "2  317484                   Single Room in Palermo Soho   1621752      Luba   \n",
              "3   15074                         ROOM WITH RIVER SIGHT     59338    Monica   \n",
              "4  118070         Amazing view - GREAT Studio - Balcony    530261   Luciano   \n",
              "\n",
              "   neighbourhood_group neighbourhood  latitude  longitude        room_type  \\\n",
              "0                  NaN       Palermo -34.58184  -58.42415  Entire home/apt   \n",
              "1                  NaN       Palermo -34.58617  -58.41036  Entire home/apt   \n",
              "2                  NaN       Palermo -34.58992  -58.42236     Private room   \n",
              "3                  NaN         Nuñez -34.53892  -58.46599     Private room   \n",
              "4                  NaN       Palermo -34.58311  -58.42767  Entire home/apt   \n",
              "\n",
              "   price  minimum_nights  number_of_reviews last_review  reviews_per_month  \\\n",
              "0  21143               3                 33  2022-12-19               0.26   \n",
              "1   5728               7                102  2022-12-05               0.80   \n",
              "2   3348               2                160  2022-12-10               1.22   \n",
              "3   5286              29                  0         NaN                NaN   \n",
              "4  10572              14                 49  2022-07-22               0.36   \n",
              "\n",
              "   calculated_host_listings_count  availability_365  number_of_reviews_ltm  \\\n",
              "0                               1               309                      6   \n",
              "1                               4               305                     11   \n",
              "2                               4               349                      5   \n",
              "3                               1               365                      0   \n",
              "4                              27               349                      4   \n",
              "\n",
              "  license  \n",
              "0     NaN  \n",
              "1     NaN  \n",
              "2     NaN  \n",
              "3     NaN  \n",
              "4     NaN  "
            ],
            "text/html": [
              "\n",
              "  <div id=\"df-e12b6aa0-51b7-49ad-8cf2-7859fe613178\">\n",
              "    <div class=\"colab-df-container\">\n",
              "      <div>\n",
              "<style scoped>\n",
              "    .dataframe tbody tr th:only-of-type {\n",
              "        vertical-align: middle;\n",
              "    }\n",
              "\n",
              "    .dataframe tbody tr th {\n",
              "        vertical-align: top;\n",
              "    }\n",
              "\n",
              "    .dataframe thead th {\n",
              "        text-align: right;\n",
              "    }\n",
              "</style>\n",
              "<table border=\"1\" class=\"dataframe\">\n",
              "  <thead>\n",
              "    <tr style=\"text-align: right;\">\n",
              "      <th></th>\n",
              "      <th>id</th>\n",
              "      <th>name</th>\n",
              "      <th>host_id</th>\n",
              "      <th>host_name</th>\n",
              "      <th>neighbourhood_group</th>\n",
              "      <th>neighbourhood</th>\n",
              "      <th>latitude</th>\n",
              "      <th>longitude</th>\n",
              "      <th>room_type</th>\n",
              "      <th>price</th>\n",
              "      <th>minimum_nights</th>\n",
              "      <th>number_of_reviews</th>\n",
              "      <th>last_review</th>\n",
              "      <th>reviews_per_month</th>\n",
              "      <th>calculated_host_listings_count</th>\n",
              "      <th>availability_365</th>\n",
              "      <th>number_of_reviews_ltm</th>\n",
              "      <th>license</th>\n",
              "    </tr>\n",
              "  </thead>\n",
              "  <tbody>\n",
              "    <tr>\n",
              "      <th>0</th>\n",
              "      <td>11508</td>\n",
              "      <td>Amazing Luxurious Apt-Palermo Soho</td>\n",
              "      <td>42762</td>\n",
              "      <td>Candela</td>\n",
              "      <td>NaN</td>\n",
              "      <td>Palermo</td>\n",
              "      <td>-34.58184</td>\n",
              "      <td>-58.42415</td>\n",
              "      <td>Entire home/apt</td>\n",
              "      <td>21143</td>\n",
              "      <td>3</td>\n",
              "      <td>33</td>\n",
              "      <td>2022-12-19</td>\n",
              "      <td>0.26</td>\n",
              "      <td>1</td>\n",
              "      <td>309</td>\n",
              "      <td>6</td>\n",
              "      <td>NaN</td>\n",
              "    </tr>\n",
              "    <tr>\n",
              "      <th>1</th>\n",
              "      <td>14222</td>\n",
              "      <td>RELAX IN HAPPY HOUSE - PALERMO, BUENOS AIRES</td>\n",
              "      <td>87710233</td>\n",
              "      <td>María</td>\n",
              "      <td>NaN</td>\n",
              "      <td>Palermo</td>\n",
              "      <td>-34.58617</td>\n",
              "      <td>-58.41036</td>\n",
              "      <td>Entire home/apt</td>\n",
              "      <td>5728</td>\n",
              "      <td>7</td>\n",
              "      <td>102</td>\n",
              "      <td>2022-12-05</td>\n",
              "      <td>0.80</td>\n",
              "      <td>4</td>\n",
              "      <td>305</td>\n",
              "      <td>11</td>\n",
              "      <td>NaN</td>\n",
              "    </tr>\n",
              "    <tr>\n",
              "      <th>2</th>\n",
              "      <td>317484</td>\n",
              "      <td>Single Room in Palermo Soho</td>\n",
              "      <td>1621752</td>\n",
              "      <td>Luba</td>\n",
              "      <td>NaN</td>\n",
              "      <td>Palermo</td>\n",
              "      <td>-34.58992</td>\n",
              "      <td>-58.42236</td>\n",
              "      <td>Private room</td>\n",
              "      <td>3348</td>\n",
              "      <td>2</td>\n",
              "      <td>160</td>\n",
              "      <td>2022-12-10</td>\n",
              "      <td>1.22</td>\n",
              "      <td>4</td>\n",
              "      <td>349</td>\n",
              "      <td>5</td>\n",
              "      <td>NaN</td>\n",
              "    </tr>\n",
              "    <tr>\n",
              "      <th>3</th>\n",
              "      <td>15074</td>\n",
              "      <td>ROOM WITH RIVER SIGHT</td>\n",
              "      <td>59338</td>\n",
              "      <td>Monica</td>\n",
              "      <td>NaN</td>\n",
              "      <td>Nuñez</td>\n",
              "      <td>-34.53892</td>\n",
              "      <td>-58.46599</td>\n",
              "      <td>Private room</td>\n",
              "      <td>5286</td>\n",
              "      <td>29</td>\n",
              "      <td>0</td>\n",
              "      <td>NaN</td>\n",
              "      <td>NaN</td>\n",
              "      <td>1</td>\n",
              "      <td>365</td>\n",
              "      <td>0</td>\n",
              "      <td>NaN</td>\n",
              "    </tr>\n",
              "    <tr>\n",
              "      <th>4</th>\n",
              "      <td>118070</td>\n",
              "      <td>Amazing view - GREAT Studio - Balcony</td>\n",
              "      <td>530261</td>\n",
              "      <td>Luciano</td>\n",
              "      <td>NaN</td>\n",
              "      <td>Palermo</td>\n",
              "      <td>-34.58311</td>\n",
              "      <td>-58.42767</td>\n",
              "      <td>Entire home/apt</td>\n",
              "      <td>10572</td>\n",
              "      <td>14</td>\n",
              "      <td>49</td>\n",
              "      <td>2022-07-22</td>\n",
              "      <td>0.36</td>\n",
              "      <td>27</td>\n",
              "      <td>349</td>\n",
              "      <td>4</td>\n",
              "      <td>NaN</td>\n",
              "    </tr>\n",
              "  </tbody>\n",
              "</table>\n",
              "</div>\n",
              "      <button class=\"colab-df-convert\" onclick=\"convertToInteractive('df-e12b6aa0-51b7-49ad-8cf2-7859fe613178')\"\n",
              "              title=\"Convert this dataframe to an interactive table.\"\n",
              "              style=\"display:none;\">\n",
              "        \n",
              "  <svg xmlns=\"http://www.w3.org/2000/svg\" height=\"24px\"viewBox=\"0 0 24 24\"\n",
              "       width=\"24px\">\n",
              "    <path d=\"M0 0h24v24H0V0z\" fill=\"none\"/>\n",
              "    <path d=\"M18.56 5.44l.94 2.06.94-2.06 2.06-.94-2.06-.94-.94-2.06-.94 2.06-2.06.94zm-11 1L8.5 8.5l.94-2.06 2.06-.94-2.06-.94L8.5 2.5l-.94 2.06-2.06.94zm10 10l.94 2.06.94-2.06 2.06-.94-2.06-.94-.94-2.06-.94 2.06-2.06.94z\"/><path d=\"M17.41 7.96l-1.37-1.37c-.4-.4-.92-.59-1.43-.59-.52 0-1.04.2-1.43.59L10.3 9.45l-7.72 7.72c-.78.78-.78 2.05 0 2.83L4 21.41c.39.39.9.59 1.41.59.51 0 1.02-.2 1.41-.59l7.78-7.78 2.81-2.81c.8-.78.8-2.07 0-2.86zM5.41 20L4 18.59l7.72-7.72 1.47 1.35L5.41 20z\"/>\n",
              "  </svg>\n",
              "      </button>\n",
              "      \n",
              "  <style>\n",
              "    .colab-df-container {\n",
              "      display:flex;\n",
              "      flex-wrap:wrap;\n",
              "      gap: 12px;\n",
              "    }\n",
              "\n",
              "    .colab-df-convert {\n",
              "      background-color: #E8F0FE;\n",
              "      border: none;\n",
              "      border-radius: 50%;\n",
              "      cursor: pointer;\n",
              "      display: none;\n",
              "      fill: #1967D2;\n",
              "      height: 32px;\n",
              "      padding: 0 0 0 0;\n",
              "      width: 32px;\n",
              "    }\n",
              "\n",
              "    .colab-df-convert:hover {\n",
              "      background-color: #E2EBFA;\n",
              "      box-shadow: 0px 1px 2px rgba(60, 64, 67, 0.3), 0px 1px 3px 1px rgba(60, 64, 67, 0.15);\n",
              "      fill: #174EA6;\n",
              "    }\n",
              "\n",
              "    [theme=dark] .colab-df-convert {\n",
              "      background-color: #3B4455;\n",
              "      fill: #D2E3FC;\n",
              "    }\n",
              "\n",
              "    [theme=dark] .colab-df-convert:hover {\n",
              "      background-color: #434B5C;\n",
              "      box-shadow: 0px 1px 3px 1px rgba(0, 0, 0, 0.15);\n",
              "      filter: drop-shadow(0px 1px 2px rgba(0, 0, 0, 0.3));\n",
              "      fill: #FFFFFF;\n",
              "    }\n",
              "  </style>\n",
              "\n",
              "      <script>\n",
              "        const buttonEl =\n",
              "          document.querySelector('#df-e12b6aa0-51b7-49ad-8cf2-7859fe613178 button.colab-df-convert');\n",
              "        buttonEl.style.display =\n",
              "          google.colab.kernel.accessAllowed ? 'block' : 'none';\n",
              "\n",
              "        async function convertToInteractive(key) {\n",
              "          const element = document.querySelector('#df-e12b6aa0-51b7-49ad-8cf2-7859fe613178');\n",
              "          const dataTable =\n",
              "            await google.colab.kernel.invokeFunction('convertToInteractive',\n",
              "                                                     [key], {});\n",
              "          if (!dataTable) return;\n",
              "\n",
              "          const docLinkHtml = 'Like what you see? Visit the ' +\n",
              "            '<a target=\"_blank\" href=https://colab.research.google.com/notebooks/data_table.ipynb>data table notebook</a>'\n",
              "            + ' to learn more about interactive tables.';\n",
              "          element.innerHTML = '';\n",
              "          dataTable['output_type'] = 'display_data';\n",
              "          await google.colab.output.renderOutput(dataTable, element);\n",
              "          const docLink = document.createElement('div');\n",
              "          docLink.innerHTML = docLinkHtml;\n",
              "          element.appendChild(docLink);\n",
              "        }\n",
              "      </script>\n",
              "    </div>\n",
              "  </div>\n",
              "  "
            ]
          },
          "metadata": {},
          "execution_count": 4
        }
      ]
    },
    {
      "cell_type": "code",
      "source": [
        "# mostrar as 5 últimas entradas\n",
        "df.tail()"
      ],
      "metadata": {
        "colab": {
          "base_uri": "https://localhost:8080/",
          "height": 444
        },
        "id": "R5CPhIWjpQbL",
        "outputId": "288f6c11-bffa-4dd3-f759-8625e6c74930"
      },
      "execution_count": 5,
      "outputs": [
        {
          "output_type": "execute_result",
          "data": {
            "text/plain": [
              "                       id                                             name  \\\n",
              "20080  789876010794026163                   Mono ambiente vista panorámica   \n",
              "20081  791445322793116711                    Departamento recoleta amplio.   \n",
              "20082  789883094728711215                              Palermo Ápt bohemia   \n",
              "20083  789886886364996844  Departamento en Congreso de Buenos Aires + coch   \n",
              "20084  789889818985355570                           Dulce hogar Belgrano R   \n",
              "\n",
              "         host_id host_name  neighbourhood_group neighbourhood   latitude  \\\n",
              "20080  161559109      Juan                  NaN     Caballito -34.608729   \n",
              "20081  154496179    Ramiro                  NaN      Recoleta -34.590495   \n",
              "20082   60115955     Hache                  NaN       Palermo -34.584193   \n",
              "20083  119161621    Camila                  NaN     Monserrat -34.610114   \n",
              "20084   48005753  Federico                  NaN      Belgrano -34.561013   \n",
              "\n",
              "       longitude        room_type  price  minimum_nights  number_of_reviews  \\\n",
              "20080 -58.460363  Entire home/apt   6080               1                  0   \n",
              "20081 -58.400738  Entire home/apt   7048               3                  0   \n",
              "20082 -58.440578  Entire home/apt   2114               4                  0   \n",
              "20083 -58.390820  Entire home/apt  10500               2                  0   \n",
              "20084 -58.463017  Entire home/apt   9867               2                  0   \n",
              "\n",
              "      last_review  reviews_per_month  calculated_host_listings_count  \\\n",
              "20080         NaN                NaN                              18   \n",
              "20081         NaN                NaN                               1   \n",
              "20082         NaN                NaN                              15   \n",
              "20083         NaN                NaN                               1   \n",
              "20084         NaN                NaN                               2   \n",
              "\n",
              "       availability_365  number_of_reviews_ltm license  \n",
              "20080               331                      0     NaN  \n",
              "20081               364                      0     NaN  \n",
              "20082               342                      0     NaN  \n",
              "20083               339                      0     NaN  \n",
              "20084                90                      0     NaN  "
            ],
            "text/html": [
              "\n",
              "  <div id=\"df-a2d4adda-451e-4576-abe6-4fa9c7f128e1\">\n",
              "    <div class=\"colab-df-container\">\n",
              "      <div>\n",
              "<style scoped>\n",
              "    .dataframe tbody tr th:only-of-type {\n",
              "        vertical-align: middle;\n",
              "    }\n",
              "\n",
              "    .dataframe tbody tr th {\n",
              "        vertical-align: top;\n",
              "    }\n",
              "\n",
              "    .dataframe thead th {\n",
              "        text-align: right;\n",
              "    }\n",
              "</style>\n",
              "<table border=\"1\" class=\"dataframe\">\n",
              "  <thead>\n",
              "    <tr style=\"text-align: right;\">\n",
              "      <th></th>\n",
              "      <th>id</th>\n",
              "      <th>name</th>\n",
              "      <th>host_id</th>\n",
              "      <th>host_name</th>\n",
              "      <th>neighbourhood_group</th>\n",
              "      <th>neighbourhood</th>\n",
              "      <th>latitude</th>\n",
              "      <th>longitude</th>\n",
              "      <th>room_type</th>\n",
              "      <th>price</th>\n",
              "      <th>minimum_nights</th>\n",
              "      <th>number_of_reviews</th>\n",
              "      <th>last_review</th>\n",
              "      <th>reviews_per_month</th>\n",
              "      <th>calculated_host_listings_count</th>\n",
              "      <th>availability_365</th>\n",
              "      <th>number_of_reviews_ltm</th>\n",
              "      <th>license</th>\n",
              "    </tr>\n",
              "  </thead>\n",
              "  <tbody>\n",
              "    <tr>\n",
              "      <th>20080</th>\n",
              "      <td>789876010794026163</td>\n",
              "      <td>Mono ambiente vista panorámica</td>\n",
              "      <td>161559109</td>\n",
              "      <td>Juan</td>\n",
              "      <td>NaN</td>\n",
              "      <td>Caballito</td>\n",
              "      <td>-34.608729</td>\n",
              "      <td>-58.460363</td>\n",
              "      <td>Entire home/apt</td>\n",
              "      <td>6080</td>\n",
              "      <td>1</td>\n",
              "      <td>0</td>\n",
              "      <td>NaN</td>\n",
              "      <td>NaN</td>\n",
              "      <td>18</td>\n",
              "      <td>331</td>\n",
              "      <td>0</td>\n",
              "      <td>NaN</td>\n",
              "    </tr>\n",
              "    <tr>\n",
              "      <th>20081</th>\n",
              "      <td>791445322793116711</td>\n",
              "      <td>Departamento recoleta amplio.</td>\n",
              "      <td>154496179</td>\n",
              "      <td>Ramiro</td>\n",
              "      <td>NaN</td>\n",
              "      <td>Recoleta</td>\n",
              "      <td>-34.590495</td>\n",
              "      <td>-58.400738</td>\n",
              "      <td>Entire home/apt</td>\n",
              "      <td>7048</td>\n",
              "      <td>3</td>\n",
              "      <td>0</td>\n",
              "      <td>NaN</td>\n",
              "      <td>NaN</td>\n",
              "      <td>1</td>\n",
              "      <td>364</td>\n",
              "      <td>0</td>\n",
              "      <td>NaN</td>\n",
              "    </tr>\n",
              "    <tr>\n",
              "      <th>20082</th>\n",
              "      <td>789883094728711215</td>\n",
              "      <td>Palermo Ápt bohemia</td>\n",
              "      <td>60115955</td>\n",
              "      <td>Hache</td>\n",
              "      <td>NaN</td>\n",
              "      <td>Palermo</td>\n",
              "      <td>-34.584193</td>\n",
              "      <td>-58.440578</td>\n",
              "      <td>Entire home/apt</td>\n",
              "      <td>2114</td>\n",
              "      <td>4</td>\n",
              "      <td>0</td>\n",
              "      <td>NaN</td>\n",
              "      <td>NaN</td>\n",
              "      <td>15</td>\n",
              "      <td>342</td>\n",
              "      <td>0</td>\n",
              "      <td>NaN</td>\n",
              "    </tr>\n",
              "    <tr>\n",
              "      <th>20083</th>\n",
              "      <td>789886886364996844</td>\n",
              "      <td>Departamento en Congreso de Buenos Aires + coch</td>\n",
              "      <td>119161621</td>\n",
              "      <td>Camila</td>\n",
              "      <td>NaN</td>\n",
              "      <td>Monserrat</td>\n",
              "      <td>-34.610114</td>\n",
              "      <td>-58.390820</td>\n",
              "      <td>Entire home/apt</td>\n",
              "      <td>10500</td>\n",
              "      <td>2</td>\n",
              "      <td>0</td>\n",
              "      <td>NaN</td>\n",
              "      <td>NaN</td>\n",
              "      <td>1</td>\n",
              "      <td>339</td>\n",
              "      <td>0</td>\n",
              "      <td>NaN</td>\n",
              "    </tr>\n",
              "    <tr>\n",
              "      <th>20084</th>\n",
              "      <td>789889818985355570</td>\n",
              "      <td>Dulce hogar Belgrano R</td>\n",
              "      <td>48005753</td>\n",
              "      <td>Federico</td>\n",
              "      <td>NaN</td>\n",
              "      <td>Belgrano</td>\n",
              "      <td>-34.561013</td>\n",
              "      <td>-58.463017</td>\n",
              "      <td>Entire home/apt</td>\n",
              "      <td>9867</td>\n",
              "      <td>2</td>\n",
              "      <td>0</td>\n",
              "      <td>NaN</td>\n",
              "      <td>NaN</td>\n",
              "      <td>2</td>\n",
              "      <td>90</td>\n",
              "      <td>0</td>\n",
              "      <td>NaN</td>\n",
              "    </tr>\n",
              "  </tbody>\n",
              "</table>\n",
              "</div>\n",
              "      <button class=\"colab-df-convert\" onclick=\"convertToInteractive('df-a2d4adda-451e-4576-abe6-4fa9c7f128e1')\"\n",
              "              title=\"Convert this dataframe to an interactive table.\"\n",
              "              style=\"display:none;\">\n",
              "        \n",
              "  <svg xmlns=\"http://www.w3.org/2000/svg\" height=\"24px\"viewBox=\"0 0 24 24\"\n",
              "       width=\"24px\">\n",
              "    <path d=\"M0 0h24v24H0V0z\" fill=\"none\"/>\n",
              "    <path d=\"M18.56 5.44l.94 2.06.94-2.06 2.06-.94-2.06-.94-.94-2.06-.94 2.06-2.06.94zm-11 1L8.5 8.5l.94-2.06 2.06-.94-2.06-.94L8.5 2.5l-.94 2.06-2.06.94zm10 10l.94 2.06.94-2.06 2.06-.94-2.06-.94-.94-2.06-.94 2.06-2.06.94z\"/><path d=\"M17.41 7.96l-1.37-1.37c-.4-.4-.92-.59-1.43-.59-.52 0-1.04.2-1.43.59L10.3 9.45l-7.72 7.72c-.78.78-.78 2.05 0 2.83L4 21.41c.39.39.9.59 1.41.59.51 0 1.02-.2 1.41-.59l7.78-7.78 2.81-2.81c.8-.78.8-2.07 0-2.86zM5.41 20L4 18.59l7.72-7.72 1.47 1.35L5.41 20z\"/>\n",
              "  </svg>\n",
              "      </button>\n",
              "      \n",
              "  <style>\n",
              "    .colab-df-container {\n",
              "      display:flex;\n",
              "      flex-wrap:wrap;\n",
              "      gap: 12px;\n",
              "    }\n",
              "\n",
              "    .colab-df-convert {\n",
              "      background-color: #E8F0FE;\n",
              "      border: none;\n",
              "      border-radius: 50%;\n",
              "      cursor: pointer;\n",
              "      display: none;\n",
              "      fill: #1967D2;\n",
              "      height: 32px;\n",
              "      padding: 0 0 0 0;\n",
              "      width: 32px;\n",
              "    }\n",
              "\n",
              "    .colab-df-convert:hover {\n",
              "      background-color: #E2EBFA;\n",
              "      box-shadow: 0px 1px 2px rgba(60, 64, 67, 0.3), 0px 1px 3px 1px rgba(60, 64, 67, 0.15);\n",
              "      fill: #174EA6;\n",
              "    }\n",
              "\n",
              "    [theme=dark] .colab-df-convert {\n",
              "      background-color: #3B4455;\n",
              "      fill: #D2E3FC;\n",
              "    }\n",
              "\n",
              "    [theme=dark] .colab-df-convert:hover {\n",
              "      background-color: #434B5C;\n",
              "      box-shadow: 0px 1px 3px 1px rgba(0, 0, 0, 0.15);\n",
              "      filter: drop-shadow(0px 1px 2px rgba(0, 0, 0, 0.3));\n",
              "      fill: #FFFFFF;\n",
              "    }\n",
              "  </style>\n",
              "\n",
              "      <script>\n",
              "        const buttonEl =\n",
              "          document.querySelector('#df-a2d4adda-451e-4576-abe6-4fa9c7f128e1 button.colab-df-convert');\n",
              "        buttonEl.style.display =\n",
              "          google.colab.kernel.accessAllowed ? 'block' : 'none';\n",
              "\n",
              "        async function convertToInteractive(key) {\n",
              "          const element = document.querySelector('#df-a2d4adda-451e-4576-abe6-4fa9c7f128e1');\n",
              "          const dataTable =\n",
              "            await google.colab.kernel.invokeFunction('convertToInteractive',\n",
              "                                                     [key], {});\n",
              "          if (!dataTable) return;\n",
              "\n",
              "          const docLinkHtml = 'Like what you see? Visit the ' +\n",
              "            '<a target=\"_blank\" href=https://colab.research.google.com/notebooks/data_table.ipynb>data table notebook</a>'\n",
              "            + ' to learn more about interactive tables.';\n",
              "          element.innerHTML = '';\n",
              "          dataTable['output_type'] = 'display_data';\n",
              "          await google.colab.output.renderOutput(dataTable, element);\n",
              "          const docLink = document.createElement('div');\n",
              "          docLink.innerHTML = docLinkHtml;\n",
              "          element.appendChild(docLink);\n",
              "        }\n",
              "      </script>\n",
              "    </div>\n",
              "  </div>\n",
              "  "
            ]
          },
          "metadata": {},
          "execution_count": 5
        }
      ]
    },
    {
      "cell_type": "markdown",
      "metadata": {
        "id": "6-B_qtEaYEd-"
      },
      "source": [
        "### **Q1. Quantos atributos (variáveis) e quantas entradas o nosso conjunto de dados possui? Quais os tipos das variáveis?**\n",
        "\n",
        "Aqui identificamos a quantidade de entradas e os tipos de colunas que a nossa base de dados possui.\n",
        "\n",
        "Tipos de entradas:\n",
        "\n",
        "* *int* - números inteiros  que podem ser positivo ou negativo.\n",
        "* *float* - \"números quebrados\" podem representar uma fração  \n",
        "\n",
        "O *dataset* usado nessa análise é uma versão \"resumida\" do Airbnb. Na mesma página que baixamos o arquivo `listings.csv`. Há uma versão mais completa com mais entradas e variáveis (`listings.csv.gz`)."
      ]
    },
    {
      "cell_type": "code",
      "metadata": {
        "id": "TFRK0tniLV-G",
        "colab": {
          "base_uri": "https://localhost:8080/",
          "height": 399
        },
        "outputId": "9a4512ed-02e6-460a-c4d9-b1a3a46e9f4f"
      },
      "source": [
        "# identificar o volume de dados do DataFrame\n",
        "print(\"Entradas:\\t {}\".format(df.shape[0]))\n",
        "print(\"Variáveis:\\t {}\\n\".format(df.shape[1]))\n",
        "\n",
        "# verificar as 5 primeiras entradas do dataset\n",
        "display(df.dtypes)"
      ],
      "execution_count": 6,
      "outputs": [
        {
          "output_type": "stream",
          "name": "stdout",
          "text": [
            "Entradas:\t 20085\n",
            "Variáveis:\t 18\n",
            "\n"
          ]
        },
        {
          "output_type": "display_data",
          "data": {
            "text/plain": [
              "id                                  int64\n",
              "name                               object\n",
              "host_id                             int64\n",
              "host_name                          object\n",
              "neighbourhood_group               float64\n",
              "neighbourhood                      object\n",
              "latitude                          float64\n",
              "longitude                         float64\n",
              "room_type                          object\n",
              "price                               int64\n",
              "minimum_nights                      int64\n",
              "number_of_reviews                   int64\n",
              "last_review                        object\n",
              "reviews_per_month                 float64\n",
              "calculated_host_listings_count      int64\n",
              "availability_365                    int64\n",
              "number_of_reviews_ltm               int64\n",
              "license                            object\n",
              "dtype: object"
            ]
          },
          "metadata": {}
        }
      ]
    },
    {
      "cell_type": "markdown",
      "metadata": {
        "id": "yz1urSUGW9iE"
      },
      "source": [
        "### **Q2. Qual a porcentagem de valores ausentes no *dataset*?**\n",
        "\n",
        "Identificamos a qualidade de um *dataset* através da quantidade de valores ausentes.\n",
        "\n",
        "* Foi indentificado que a coluna `neighbourhood_group` possui 100% dos seus valores ausentes.\n",
        "* A coluna `license` está com 97% dos seus valores ausentes, possivelmente esse registro não é obrigatória em Buenos Aires.\n",
        "* As variáveis `reviews_per_month` e `last_review` possuem cerca de 19% dos seu valores ausentes.\n",
        "* Na coluna `name` temos uma pequena quantidade de valores ausentes, aproximadamente 0,01%."
      ]
    },
    {
      "cell_type": "code",
      "metadata": {
        "id": "plk2FjbCXOqP",
        "colab": {
          "base_uri": "https://localhost:8080/"
        },
        "outputId": "8a844879-323c-48f7-ee21-b4ae7d263735"
      },
      "source": [
        "# ordenar em ordem decrescente as variáveis por seus valores ausentes\n",
        "(df.isnull().sum() / df.shape[0]).sort_values(ascending=False)"
      ],
      "execution_count": 7,
      "outputs": [
        {
          "output_type": "execute_result",
          "data": {
            "text/plain": [
              "neighbourhood_group               1.000000\n",
              "license                           0.979437\n",
              "reviews_per_month                 0.190739\n",
              "last_review                       0.190739\n",
              "name                              0.000149\n",
              "minimum_nights                    0.000000\n",
              "number_of_reviews_ltm             0.000000\n",
              "availability_365                  0.000000\n",
              "calculated_host_listings_count    0.000000\n",
              "number_of_reviews                 0.000000\n",
              "id                                0.000000\n",
              "room_type                         0.000000\n",
              "longitude                         0.000000\n",
              "latitude                          0.000000\n",
              "neighbourhood                     0.000000\n",
              "host_name                         0.000000\n",
              "host_id                           0.000000\n",
              "price                             0.000000\n",
              "dtype: float64"
            ]
          },
          "metadata": {},
          "execution_count": 7
        }
      ]
    },
    {
      "cell_type": "markdown",
      "source": [
        "#### Limpeza de dados"
      ],
      "metadata": {
        "id": "y8zC-7cl4hun"
      }
    },
    {
      "cell_type": "markdown",
      "source": [
        "Podemos observar algumas colunas com baixa relevância e grande quantidade de valores ausentes, essas colunas podem ser excluídas\n",
        "\n",
        "Também temos algumas entradas como: `reviews_per_month`, `last_review` e `name` que estão com poucos dados ausentes e com baixa relevância, vamos excluir essas linhas para melhor análise dos dados.\n"
      ],
      "metadata": {
        "id": "cRRJgWxdfHwP"
      }
    },
    {
      "cell_type": "code",
      "source": [
        "# excluindo colunas com dados faltantes\n",
        "df.drop(columns=['neighbourhood_group', 'license'], inplace=True)\n",
        "\n",
        "# excluindo entradas com dados faltantes\n",
        "df.dropna(axis=0, inplace=True)\n",
        "\n",
        "# convertendo os tipos de dados\n",
        "df[['price','latitude', 'longitude']] = df[['price','latitude', 'longitude']].astype('float')"
      ],
      "metadata": {
        "id": "_KALhqVVeU4Y"
      },
      "execution_count": 8,
      "outputs": []
    },
    {
      "cell_type": "markdown",
      "source": [
        "Com a limpeza executada, vamos conferir os resultados."
      ],
      "metadata": {
        "id": "vuA0Ow_NiaVt"
      }
    },
    {
      "cell_type": "code",
      "source": [
        "# verificando o resultado\n",
        "(df.isnull().sum()).sort_values(ascending=False)"
      ],
      "metadata": {
        "colab": {
          "base_uri": "https://localhost:8080/"
        },
        "id": "YzNmQqfTenH3",
        "outputId": "d2d950b6-8fa6-4d76-ebab-209c2e6ad327"
      },
      "execution_count": 9,
      "outputs": [
        {
          "output_type": "execute_result",
          "data": {
            "text/plain": [
              "id                                0\n",
              "name                              0\n",
              "host_id                           0\n",
              "host_name                         0\n",
              "neighbourhood                     0\n",
              "latitude                          0\n",
              "longitude                         0\n",
              "room_type                         0\n",
              "price                             0\n",
              "minimum_nights                    0\n",
              "number_of_reviews                 0\n",
              "last_review                       0\n",
              "reviews_per_month                 0\n",
              "calculated_host_listings_count    0\n",
              "availability_365                  0\n",
              "number_of_reviews_ltm             0\n",
              "dtype: int64"
            ]
          },
          "metadata": {},
          "execution_count": 9
        }
      ]
    },
    {
      "cell_type": "markdown",
      "source": [
        "podemos ver que que a limpeza executada corretamente "
      ],
      "metadata": {
        "id": "3AjzGzv6YbOM"
      }
    },
    {
      "cell_type": "markdown",
      "metadata": {
        "id": "iHXvvHIxaoNc"
      },
      "source": [
        "### **Q3. Qual o tipo de distribuição das variáveis?** \n",
        "\n",
        "Agora iremos gerar um histograma para melhor visualização das variáveis."
      ]
    },
    {
      "cell_type": "code",
      "metadata": {
        "id": "q2wWSfeRbmBo",
        "colab": {
          "base_uri": "https://localhost:8080/",
          "height": 607
        },
        "outputId": "5f28dcdc-aead-4571-fdf1-f35e18e0e40d"
      },
      "source": [
        "# plotar o histograma das variáveis numéricas\n",
        "df.hist(bins=15, figsize=(15,10));"
      ],
      "execution_count": 10,
      "outputs": [
        {
          "output_type": "display_data",
          "data": {
            "text/plain": [
              "<Figure size 1080x720 with 12 Axes>"
            ],
            "image/png": "[encoded data removed]"
          },
          "metadata": {
            "needs_background": "light"
          }
        }
      ]
    },
    {
      "cell_type": "markdown",
      "metadata": {
        "id": "JW4iuPxnJZXo"
      },
      "source": [
        "### **Q3.1. Há *outliers* presentes?**\n",
        "\n",
        "Pela distribuição do histograma, é possível verificar indícios da presença de *outliers*. Olhe por exemplo as variáveis `price`, `minimum_nights` e `calculated_host_listings_count`.\n",
        "\n",
        "Os valores não seguem uma distruição, e distorcem toda a representação gráfica. Para confirmar, há duas maneiras rápidas que auxiliam a detecção de *outliers*. São elas:\n",
        "\n",
        "* Resumo estatístico por meio do método `describe()`\n",
        "* Plotar `boxplots` para a variável."
      ]
    },
    {
      "cell_type": "code",
      "source": [
        "# ver o resumo estatístico das variáveis numéricas\n",
        "df[['price', 'minimum_nights', 'number_of_reviews', 'reviews_per_month',\n",
        "     'calculated_host_listings_count', 'availability_365']].describe()"
      ],
      "metadata": {
        "colab": {
          "base_uri": "https://localhost:8080/",
          "height": 300
        },
        "id": "FQhVx3LzGVY0",
        "outputId": "25787e72-b9a5-4abf-f68b-578e258d6950"
      },
      "execution_count": 11,
      "outputs": [
        {
          "output_type": "execute_result",
          "data": {
            "text/plain": [
              "              price  minimum_nights  number_of_reviews  reviews_per_month  \\\n",
              "count  1.625300e+04    16253.000000       16253.000000       16253.000000   \n",
              "mean   1.490132e+04        5.853504          27.063927           1.313591   \n",
              "std    1.920958e+05       22.956416          41.040234           1.324490   \n",
              "min    2.600000e+02        1.000000           1.000000           0.010000   \n",
              "25%    5.638000e+03        2.000000           4.000000           0.330000   \n",
              "50%    7.929000e+03        3.000000          12.000000           0.910000   \n",
              "75%    1.190900e+04        4.000000          32.000000           1.920000   \n",
              "max    1.744311e+07     1000.000000         612.000000          12.170000   \n",
              "\n",
              "       calculated_host_listings_count  availability_365  \n",
              "count                    16253.000000      16253.000000  \n",
              "mean                        12.631637        213.467175  \n",
              "std                         25.479591        125.065793  \n",
              "min                          1.000000          0.000000  \n",
              "25%                          1.000000         89.000000  \n",
              "50%                          2.000000        236.000000  \n",
              "75%                          9.000000        337.000000  \n",
              "max                        135.000000        365.000000  "
            ],
            "text/html": [
              "\n",
              "  <div id=\"df-856e00e1-035c-4c79-b441-e21109c55c79\">\n",
              "    <div class=\"colab-df-container\">\n",
              "      <div>\n",
              "<style scoped>\n",
              "    .dataframe tbody tr th:only-of-type {\n",
              "        vertical-align: middle;\n",
              "    }\n",
              "\n",
              "    .dataframe tbody tr th {\n",
              "        vertical-align: top;\n",
              "    }\n",
              "\n",
              "    .dataframe thead th {\n",
              "        text-align: right;\n",
              "    }\n",
              "</style>\n",
              "<table border=\"1\" class=\"dataframe\">\n",
              "  <thead>\n",
              "    <tr style=\"text-align: right;\">\n",
              "      <th></th>\n",
              "      <th>price</th>\n",
              "      <th>minimum_nights</th>\n",
              "      <th>number_of_reviews</th>\n",
              "      <th>reviews_per_month</th>\n",
              "      <th>calculated_host_listings_count</th>\n",
              "      <th>availability_365</th>\n",
              "    </tr>\n",
              "  </thead>\n",
              "  <tbody>\n",
              "    <tr>\n",
              "      <th>count</th>\n",
              "      <td>1.625300e+04</td>\n",
              "      <td>16253.000000</td>\n",
              "      <td>16253.000000</td>\n",
              "      <td>16253.000000</td>\n",
              "      <td>16253.000000</td>\n",
              "      <td>16253.000000</td>\n",
              "    </tr>\n",
              "    <tr>\n",
              "      <th>mean</th>\n",
              "      <td>1.490132e+04</td>\n",
              "      <td>5.853504</td>\n",
              "      <td>27.063927</td>\n",
              "      <td>1.313591</td>\n",
              "      <td>12.631637</td>\n",
              "      <td>213.467175</td>\n",
              "    </tr>\n",
              "    <tr>\n",
              "      <th>std</th>\n",
              "      <td>1.920958e+05</td>\n",
              "      <td>22.956416</td>\n",
              "      <td>41.040234</td>\n",
              "      <td>1.324490</td>\n",
              "      <td>25.479591</td>\n",
              "      <td>125.065793</td>\n",
              "    </tr>\n",
              "    <tr>\n",
              "      <th>min</th>\n",
              "      <td>2.600000e+02</td>\n",
              "      <td>1.000000</td>\n",
              "      <td>1.000000</td>\n",
              "      <td>0.010000</td>\n",
              "      <td>1.000000</td>\n",
              "      <td>0.000000</td>\n",
              "    </tr>\n",
              "    <tr>\n",
              "      <th>25%</th>\n",
              "      <td>5.638000e+03</td>\n",
              "      <td>2.000000</td>\n",
              "      <td>4.000000</td>\n",
              "      <td>0.330000</td>\n",
              "      <td>1.000000</td>\n",
              "      <td>89.000000</td>\n",
              "    </tr>\n",
              "    <tr>\n",
              "      <th>50%</th>\n",
              "      <td>7.929000e+03</td>\n",
              "      <td>3.000000</td>\n",
              "      <td>12.000000</td>\n",
              "      <td>0.910000</td>\n",
              "      <td>2.000000</td>\n",
              "      <td>236.000000</td>\n",
              "    </tr>\n",
              "    <tr>\n",
              "      <th>75%</th>\n",
              "      <td>1.190900e+04</td>\n",
              "      <td>4.000000</td>\n",
              "      <td>32.000000</td>\n",
              "      <td>1.920000</td>\n",
              "      <td>9.000000</td>\n",
              "      <td>337.000000</td>\n",
              "    </tr>\n",
              "    <tr>\n",
              "      <th>max</th>\n",
              "      <td>1.744311e+07</td>\n",
              "      <td>1000.000000</td>\n",
              "      <td>612.000000</td>\n",
              "      <td>12.170000</td>\n",
              "      <td>135.000000</td>\n",
              "      <td>365.000000</td>\n",
              "    </tr>\n",
              "  </tbody>\n",
              "</table>\n",
              "</div>\n",
              "      <button class=\"colab-df-convert\" onclick=\"convertToInteractive('df-856e00e1-035c-4c79-b441-e21109c55c79')\"\n",
              "              title=\"Convert this dataframe to an interactive table.\"\n",
              "              style=\"display:none;\">\n",
              "        \n",
              "  <svg xmlns=\"http://www.w3.org/2000/svg\" height=\"24px\"viewBox=\"0 0 24 24\"\n",
              "       width=\"24px\">\n",
              "    <path d=\"M0 0h24v24H0V0z\" fill=\"none\"/>\n",
              "    <path d=\"M18.56 5.44l.94 2.06.94-2.06 2.06-.94-2.06-.94-.94-2.06-.94 2.06-2.06.94zm-11 1L8.5 8.5l.94-2.06 2.06-.94-2.06-.94L8.5 2.5l-.94 2.06-2.06.94zm10 10l.94 2.06.94-2.06 2.06-.94-2.06-.94-.94-2.06-.94 2.06-2.06.94z\"/><path d=\"M17.41 7.96l-1.37-1.37c-.4-.4-.92-.59-1.43-.59-.52 0-1.04.2-1.43.59L10.3 9.45l-7.72 7.72c-.78.78-.78 2.05 0 2.83L4 21.41c.39.39.9.59 1.41.59.51 0 1.02-.2 1.41-.59l7.78-7.78 2.81-2.81c.8-.78.8-2.07 0-2.86zM5.41 20L4 18.59l7.72-7.72 1.47 1.35L5.41 20z\"/>\n",
              "  </svg>\n",
              "      </button>\n",
              "      \n",
              "  <style>\n",
              "    .colab-df-container {\n",
              "      display:flex;\n",
              "      flex-wrap:wrap;\n",
              "      gap: 12px;\n",
              "    }\n",
              "\n",
              "    .colab-df-convert {\n",
              "      background-color: #E8F0FE;\n",
              "      border: none;\n",
              "      border-radius: 50%;\n",
              "      cursor: pointer;\n",
              "      display: none;\n",
              "      fill: #1967D2;\n",
              "      height: 32px;\n",
              "      padding: 0 0 0 0;\n",
              "      width: 32px;\n",
              "    }\n",
              "\n",
              "    .colab-df-convert:hover {\n",
              "      background-color: #E2EBFA;\n",
              "      box-shadow: 0px 1px 2px rgba(60, 64, 67, 0.3), 0px 1px 3px 1px rgba(60, 64, 67, 0.15);\n",
              "      fill: #174EA6;\n",
              "    }\n",
              "\n",
              "    [theme=dark] .colab-df-convert {\n",
              "      background-color: #3B4455;\n",
              "      fill: #D2E3FC;\n",
              "    }\n",
              "\n",
              "    [theme=dark] .colab-df-convert:hover {\n",
              "      background-color: #434B5C;\n",
              "      box-shadow: 0px 1px 3px 1px rgba(0, 0, 0, 0.15);\n",
              "      filter: drop-shadow(0px 1px 2px rgba(0, 0, 0, 0.3));\n",
              "      fill: #FFFFFF;\n",
              "    }\n",
              "  </style>\n",
              "\n",
              "      <script>\n",
              "        const buttonEl =\n",
              "          document.querySelector('#df-856e00e1-035c-4c79-b441-e21109c55c79 button.colab-df-convert');\n",
              "        buttonEl.style.display =\n",
              "          google.colab.kernel.accessAllowed ? 'block' : 'none';\n",
              "\n",
              "        async function convertToInteractive(key) {\n",
              "          const element = document.querySelector('#df-856e00e1-035c-4c79-b441-e21109c55c79');\n",
              "          const dataTable =\n",
              "            await google.colab.kernel.invokeFunction('convertToInteractive',\n",
              "                                                     [key], {});\n",
              "          if (!dataTable) return;\n",
              "\n",
              "          const docLinkHtml = 'Like what you see? Visit the ' +\n",
              "            '<a target=\"_blank\" href=https://colab.research.google.com/notebooks/data_table.ipynb>data table notebook</a>'\n",
              "            + ' to learn more about interactive tables.';\n",
              "          element.innerHTML = '';\n",
              "          dataTable['output_type'] = 'display_data';\n",
              "          await google.colab.output.renderOutput(dataTable, element);\n",
              "          const docLink = document.createElement('div');\n",
              "          docLink.innerHTML = docLinkHtml;\n",
              "          element.appendChild(docLink);\n",
              "        }\n",
              "      </script>\n",
              "    </div>\n",
              "  </div>\n",
              "  "
            ]
          },
          "metadata": {},
          "execution_count": 11
        }
      ]
    },
    {
      "cell_type": "markdown",
      "source": [
        "Podemos identificar a presença de *outliers* e confirmar algumas hipóteses como:\n",
        "\n",
        "* A variável `price` está com uma variação muito grande entre as variáveis.\n",
        "* Acoluna `calculated_host_listings_count` possui 75% do valor abaixo de 9.000000, e o seu valor máximo é de 135.000000.\n",
        "* A quantidade mínima de noites (`minimum_nights`) está acima de 365 dias no ano."
      ],
      "metadata": {
        "id": "KH6fkE6DlfLs"
      }
    },
    {
      "cell_type": "markdown",
      "source": [
        "## Limpando Outliers\n",
        "\n",
        "Para tratar os outliers desse conjunto de dados, iremos analisar a distribuição estatística, plotar boxplots e calcular os limites utilizando a regra do IQR Score.\n",
        "\n",
        "**O que é o IQR?**\n",
        "\n",
        "O IQR é calculado subtraindo o Terceiro Quartil (75%) pelo Primeiro Quartil (25%).\n",
        "\n",
        "# IQR = Q3 - Q1\n",
        "\n",
        "Verificando resumo estatístico e os histogramas, conseguimos ver claramente que temos outliers presentes. E para tratá-los vamos seguir os seguintes passos:\n",
        "\n",
        "* Definir o Q1 e Q3 para as variáveis que serão limpas.\n",
        "* Calcular o IQR para as variáveis.\n",
        "* Definir o limite superior e inferior para cortar os outliers.\n",
        "* Remover os outliers.\n",
        "* plotar um boxplot para visualizars a diferença feita após a limpeza.\n",
        " \n",
        "\n",
        "\n",
        "\n"
      ],
      "metadata": {
        "id": "H7XV3vTDnvJi"
      }
    },
    {
      "cell_type": "markdown",
      "source": [
        "#### Média IQR da variável price"
      ],
      "metadata": {
        "id": "UkCjj93PtKZ3"
      }
    },
    {
      "cell_type": "code",
      "source": [
        "# identificando os outliers para a variável price\n",
        "q1_price = df.price.quantile(.25)\n",
        "q3_price = df.price.quantile(.75)\n",
        "IQR_price = q3_price - q1_price\n",
        "print('IQR da variável price: ', IQR_price)\n",
        "\n",
        "# definindo os limites                                       \n",
        "sup_price = q3_price + 1.5 * IQR_price\n",
        "inf_price = q1_price - 1.5 * IQR_price\n",
        "\n",
        "print('Limite superior de price: ', sup_price)\n",
        "print('Limite inferior de price: ', inf_price)"
      ],
      "metadata": {
        "colab": {
          "base_uri": "https://localhost:8080/"
        },
        "id": "wOzq8LiOlfej",
        "outputId": "7959a45d-7953-4ba1-b741-1204cbe8ae4c"
      },
      "execution_count": 12,
      "outputs": [
        {
          "output_type": "stream",
          "name": "stdout",
          "text": [
            "IQR da variável price:  6271.0\n",
            "Limite superior de price:  21315.5\n",
            "Limite inferior de price:  -3768.5\n"
          ]
        }
      ]
    },
    {
      "cell_type": "markdown",
      "source": [
        "#### Boxplot para price\n",
        "\n"
      ],
      "metadata": {
        "id": "B_UYxgFCHXjV"
      }
    },
    {
      "cell_type": "code",
      "source": [
        "# price\n",
        "df.price.plot(kind='box', vert=False, figsize=(15, 3),)\n",
        "plt.show()\n",
        "\n",
        "# ver quantidade de valores acima de 21315.5 para price\n",
        "print(\"\\nprice: valores acima de 21315.5\")\n",
        "print(\"{} entradas\".format(len(df[df.price > 21315.5])))\n",
        "print(\"{:.4f}%\".format((len(df[df.price > 21315.5]) / df.shape[0])*100))\n"
      ],
      "metadata": {
        "colab": {
          "base_uri": "https://localhost:8080/",
          "height": 293
        },
        "id": "pwWuDZG-LKBL",
        "outputId": "4288284d-b6c6-4902-c07a-9d0e550962e2"
      },
      "execution_count": 13,
      "outputs": [
        {
          "output_type": "display_data",
          "data": {
            "text/plain": [
              "<Figure size 1080x216 with 1 Axes>"
            ],
            "image/png": "[encoded data removed]"
          },
          "metadata": {
            "needs_background": "light"
          }
        },
        {
          "output_type": "stream",
          "name": "stdout",
          "text": [
            "\n",
            "price: valores acima de 21315.5\n",
            "1199 entradas\n",
            "7.3771%\n"
          ]
        }
      ]
    },
    {
      "cell_type": "markdown",
      "source": [
        "#### Média IQR da variável minimum_nights"
      ],
      "metadata": {
        "id": "Sjyjg86Gthcf"
      }
    },
    {
      "cell_type": "code",
      "source": [
        "# identificando os outliers para a variável minimum_nights\n",
        "q1_minimum_nights = df.minimum_nights.quantile(.25)\n",
        "q3_minimum_nights = df.minimum_nights.quantile(.75)\n",
        "IQR_minimum_nights = q3_minimum_nights - q1_minimum_nights\n",
        "print('IQR da variável minimum_nights: ', IQR_minimum_nights)\n",
        "\n",
        "# definindo os limites                                       \n",
        "sup_minimum_nights = q3_minimum_nights + 1.5 * IQR_minimum_nights\n",
        "inf_minimum_nights = q1_minimum_nights - 1.5 * IQR_minimum_nights\n",
        "\n",
        "print('Limite superior de minimum_nights: ', sup_minimum_nights)\n",
        "print('Limite inferior de minimum_nights: ', inf_minimum_nights)"
      ],
      "metadata": {
        "colab": {
          "base_uri": "https://localhost:8080/"
        },
        "id": "RRaCH7uBr6IB",
        "outputId": "669806c1-65e6-4e72-f89c-a61968b5a8f8"
      },
      "execution_count": 14,
      "outputs": [
        {
          "output_type": "stream",
          "name": "stdout",
          "text": [
            "IQR da variável minimum_nights:  2.0\n",
            "Limite superior de minimum_nights:  7.0\n",
            "Limite inferior de minimum_nights:  -1.0\n"
          ]
        }
      ]
    },
    {
      "cell_type": "markdown",
      "source": [
        "\n",
        "\n",
        "#### Boxplot para minimum_nights"
      ],
      "metadata": {
        "id": "B5W-QcvsKV1f"
      }
    },
    {
      "cell_type": "code",
      "source": [
        "# minimum_nights\n",
        "df.minimum_nights.plot(kind='box', vert=False, figsize=(15,3))\n",
        "plt.show()\n",
        "\n",
        "# ver quantidade de valores acima de 7.0 dias para minimum_nights\n",
        "print(\"minimum_nights: valores acima de 7.0:\")\n",
        "print(\"{} entradas\".format(len(df[df.minimum_nights > 7.0])))\n",
        "print(\"{:.4f}%\".format((len(df[df.minimum_nights > 7.0]) / df.shape[0])*100))"
      ],
      "metadata": {
        "colab": {
          "base_uri": "https://localhost:8080/",
          "height": 263
        },
        "id": "h544w4O-Iz_8",
        "outputId": "2594fa06-5425-49bb-deac-3df4f681aef6"
      },
      "execution_count": 15,
      "outputs": [
        {
          "output_type": "display_data",
          "data": {
            "text/plain": [
              "<Figure size 1080x216 with 1 Axes>"
            ],
            "image/png": "[encoded data removed]"
          },
          "metadata": {
            "needs_background": "light"
          }
        },
        {
          "output_type": "stream",
          "name": "stdout",
          "text": [
            "minimum_nights: valores acima de 7.0:\n",
            "1478 entradas\n",
            "9.0937%\n"
          ]
        }
      ]
    },
    {
      "cell_type": "markdown",
      "source": [
        "#### Média IQR da variável calculated_host_listings_count"
      ],
      "metadata": {
        "id": "-9cJeDlD3K_q"
      }
    },
    {
      "cell_type": "code",
      "source": [
        "# identificando os outliers para a variável calculated_host_listings_count\n",
        "q1_calculated_host_listings_count = df.calculated_host_listings_count.quantile(.25)\n",
        "q3_calculated_host_listings_count = df.calculated_host_listings_count.quantile(.75)\n",
        "IQR_calculated_host_listings_count = q3_calculated_host_listings_count - q1_calculated_host_listings_count\n",
        "print('IQR da variável calculated_host_listings_count: ', IQR_calculated_host_listings_count)\n",
        "\n",
        "# definindo os limites                                       \n",
        "sup_calculated_host_listings_count = q3_calculated_host_listings_count + 1.5 * IQR_calculated_host_listings_count\n",
        "inf_calculated_host_listings_count = q1_calculated_host_listings_count - 1.5 * IQR_calculated_host_listings_count\n",
        "\n",
        "print('Limite superior de calculated_host_listings_count: ', sup_calculated_host_listings_count)\n",
        "print('Limite inferior de calculated_host_listings_count: ', inf_calculated_host_listings_count)"
      ],
      "metadata": {
        "colab": {
          "base_uri": "https://localhost:8080/"
        },
        "id": "F9qmf5zl3Duj",
        "outputId": "75697894-ee09-4bcb-bf89-bd45215cbb44"
      },
      "execution_count": 16,
      "outputs": [
        {
          "output_type": "stream",
          "name": "stdout",
          "text": [
            "IQR da variável calculated_host_listings_count:  8.0\n",
            "Limite superior de calculated_host_listings_count:  21.0\n",
            "Limite inferior de calculated_host_listings_count:  -11.0\n"
          ]
        }
      ]
    },
    {
      "cell_type": "markdown",
      "source": [
        "#### Boxplot para calculated_host_listings_count"
      ],
      "metadata": {
        "id": "RWASm5tbG4R-"
      }
    },
    {
      "cell_type": "code",
      "source": [
        "# calculated_host_listings_count\n",
        "df.calculated_host_listings_count.plot(kind='box', vert=False, figsize=(15, 3),)\n",
        "plt.show()\n",
        "\n",
        "# ver quantidade de valores acima de 21.0 para calculated_host_listings_count\n",
        "print(\"\\ncalculated_host_listings_count: valores acima de 21.0\")\n",
        "print(\"{} entradas\".format(len(df[df.calculated_host_listings_count > 21.0])))\n",
        "print(\"{:.4f}%\".format((len(df[df.calculated_host_listings_count > 21.0]) / df.shape[0])*100))\n"
      ],
      "metadata": {
        "colab": {
          "base_uri": "https://localhost:8080/",
          "height": 280
        },
        "outputId": "d1af5289-4b83-403e-b203-0f181abee604",
        "id": "sVV3Bu_WOlGX"
      },
      "execution_count": 17,
      "outputs": [
        {
          "output_type": "display_data",
          "data": {
            "text/plain": [
              "<Figure size 1080x216 with 1 Axes>"
            ],
            "image/png": "[encoded data removed]"
          },
          "metadata": {
            "needs_background": "light"
          }
        },
        {
          "output_type": "stream",
          "name": "stdout",
          "text": [
            "\n",
            "calculated_host_listings_count: valores acima de 21.0\n",
            "2576 entradas\n",
            "15.8494%\n"
          ]
        }
      ]
    },
    {
      "cell_type": "markdown",
      "source": [
        "#### Histogramas sem *outliers*\n",
        "\n",
        "Já que identificamos *outliers* nas variáveis `calculated_host_listings_count`, `minimum_nights` e `price`, agora vamos limpar o *DataFrame* delas e plotar novamente o histograma."
      ],
      "metadata": {
        "id": "2sGwDsoLHqI-"
      }
    },
    {
      "cell_type": "code",
      "source": [
        "# remover os *outliers* em um novo DataFrame\n",
        "df_clean = df.copy()\n",
        "df_clean.drop(df_clean[df_clean.price > 21315.5].index, axis=0, inplace=True)\n",
        "df_clean.drop(df_clean[df_clean.calculated_host_listings_count > 21.0].index, axis=0, inplace=True)\n",
        "df_clean.drop(df_clean[df_clean.minimum_nights > 7.0].index, axis=0, inplace=True)\n",
        "\n",
        "\n",
        "# plotar o histograma para as variáveis numéricas\n",
        "df_clean.hist(bins=15, figsize=(15,10));"
      ],
      "metadata": {
        "colab": {
          "base_uri": "https://localhost:8080/",
          "height": 607
        },
        "id": "9_5beTr4NeCA",
        "outputId": "c0ff6033-bbde-4e3c-8d3c-46442923bdf1"
      },
      "execution_count": 18,
      "outputs": [
        {
          "output_type": "display_data",
          "data": {
            "text/plain": [
              "<Figure size 1080x720 with 12 Axes>"
            ],
            "image/png": "[encoded data removed]"
          },
          "metadata": {
            "needs_background": "light"
          }
        }
      ]
    },
    {
      "cell_type": "markdown",
      "source": [
        "Aqui podemos ver o resultado da limpeza ao gerar um novo histograma.\n",
        "\n",
        "Eles estão sendo calculados em relação ao novo dataset, e nossa limpeza levou em consideração os quartis dos dados originais."
      ],
      "metadata": {
        "id": "lYEVK5K2Icl2"
      }
    },
    {
      "cell_type": "markdown",
      "metadata": {
        "id": "7x4aw1j5wNmn"
      },
      "source": [
        "### **Q4. Qual a média dos preços de aluguel?**\n",
        "\n",
        "Agora vamos fazer uma média de preço das diárias para locação."
      ]
    },
    {
      "cell_type": "code",
      "metadata": {
        "id": "ff-8gUahLk-C",
        "colab": {
          "base_uri": "https://localhost:8080/"
        },
        "outputId": "988490ff-832e-407e-f400-5b02d205c869"
      },
      "source": [
        "# ver a média da coluna `price``\n",
        "df_clean.price.mean()"
      ],
      "execution_count": 19,
      "outputs": [
        {
          "output_type": "execute_result",
          "data": {
            "text/plain": [
              "8299.272373204085"
            ]
          },
          "metadata": {},
          "execution_count": 19
        }
      ]
    },
    {
      "cell_type": "markdown",
      "metadata": {
        "id": "IXn2oIo5qx-w"
      },
      "source": [
        "### **Q4. Qual a correlação existente entre as variáveis**\n",
        "\n",
        "\n",
        "Correlação significa que existe uma relação entre duas coisas. No nosso contexto, estamos buscando relação ou semelhança entre duas variáveis.\n",
        "\n",
        "Essa relação pode ser medida, e é função do coeficiente de correlação estabelecer qual a intensidade dela. Para identificar as correlações existentes entre as variáveis de interesse, vou:\n",
        "\n",
        "* Criar uma matriz de correlação\n",
        "* Gerar um *heatmap* a partir dessa matriz, usando a biblioteca `seaborn`"
      ]
    },
    {
      "cell_type": "code",
      "metadata": {
        "id": "x2ayzBajqxyd",
        "colab": {
          "base_uri": "https://localhost:8080/",
          "height": 238
        },
        "outputId": "0890bc5c-be28-40f9-84c3-46abe4ac9108"
      },
      "source": [
        "# criar uma matriz de correlação\n",
        "corr = df_clean[['price', 'minimum_nights', 'number_of_reviews', 'reviews_per_month',\n",
        "                 'calculated_host_listings_count', 'availability_365']].corr()\n",
        "\n",
        "# mostrar a matriz de correlação\n",
        "display(corr)\n"
      ],
      "execution_count": 20,
      "outputs": [
        {
          "output_type": "display_data",
          "data": {
            "text/plain": [
              "                                   price  minimum_nights  number_of_reviews  \\\n",
              "price                           1.000000       -0.019136          -0.018507   \n",
              "minimum_nights                 -0.019136        1.000000          -0.079577   \n",
              "number_of_reviews              -0.018507       -0.079577           1.000000   \n",
              "reviews_per_month              -0.001272       -0.279547           0.246351   \n",
              "calculated_host_listings_count  0.098652       -0.041592          -0.015487   \n",
              "availability_365                0.078570       -0.091857          -0.049726   \n",
              "\n",
              "                                reviews_per_month  \\\n",
              "price                                   -0.001272   \n",
              "minimum_nights                          -0.279547   \n",
              "number_of_reviews                        0.246351   \n",
              "reviews_per_month                        1.000000   \n",
              "calculated_host_listings_count           0.072929   \n",
              "availability_365                         0.127382   \n",
              "\n",
              "                                calculated_host_listings_count  \\\n",
              "price                                                 0.098652   \n",
              "minimum_nights                                       -0.041592   \n",
              "number_of_reviews                                    -0.015487   \n",
              "reviews_per_month                                     0.072929   \n",
              "calculated_host_listings_count                        1.000000   \n",
              "availability_365                                      0.104913   \n",
              "\n",
              "                                availability_365  \n",
              "price                                   0.078570  \n",
              "minimum_nights                         -0.091857  \n",
              "number_of_reviews                      -0.049726  \n",
              "reviews_per_month                       0.127382  \n",
              "calculated_host_listings_count          0.104913  \n",
              "availability_365                        1.000000  "
            ],
            "text/html": [
              "\n",
              "  <div id=\"df-590b6060-b73c-4b86-9e6b-37cbd062d1a7\">\n",
              "    <div class=\"colab-df-container\">\n",
              "      <div>\n",
              "<style scoped>\n",
              "    .dataframe tbody tr th:only-of-type {\n",
              "        vertical-align: middle;\n",
              "    }\n",
              "\n",
              "    .dataframe tbody tr th {\n",
              "        vertical-align: top;\n",
              "    }\n",
              "\n",
              "    .dataframe thead th {\n",
              "        text-align: right;\n",
              "    }\n",
              "</style>\n",
              "<table border=\"1\" class=\"dataframe\">\n",
              "  <thead>\n",
              "    <tr style=\"text-align: right;\">\n",
              "      <th></th>\n",
              "      <th>price</th>\n",
              "      <th>minimum_nights</th>\n",
              "      <th>number_of_reviews</th>\n",
              "      <th>reviews_per_month</th>\n",
              "      <th>calculated_host_listings_count</th>\n",
              "      <th>availability_365</th>\n",
              "    </tr>\n",
              "  </thead>\n",
              "  <tbody>\n",
              "    <tr>\n",
              "      <th>price</th>\n",
              "      <td>1.000000</td>\n",
              "      <td>-0.019136</td>\n",
              "      <td>-0.018507</td>\n",
              "      <td>-0.001272</td>\n",
              "      <td>0.098652</td>\n",
              "      <td>0.078570</td>\n",
              "    </tr>\n",
              "    <tr>\n",
              "      <th>minimum_nights</th>\n",
              "      <td>-0.019136</td>\n",
              "      <td>1.000000</td>\n",
              "      <td>-0.079577</td>\n",
              "      <td>-0.279547</td>\n",
              "      <td>-0.041592</td>\n",
              "      <td>-0.091857</td>\n",
              "    </tr>\n",
              "    <tr>\n",
              "      <th>number_of_reviews</th>\n",
              "      <td>-0.018507</td>\n",
              "      <td>-0.079577</td>\n",
              "      <td>1.000000</td>\n",
              "      <td>0.246351</td>\n",
              "      <td>-0.015487</td>\n",
              "      <td>-0.049726</td>\n",
              "    </tr>\n",
              "    <tr>\n",
              "      <th>reviews_per_month</th>\n",
              "      <td>-0.001272</td>\n",
              "      <td>-0.279547</td>\n",
              "      <td>0.246351</td>\n",
              "      <td>1.000000</td>\n",
              "      <td>0.072929</td>\n",
              "      <td>0.127382</td>\n",
              "    </tr>\n",
              "    <tr>\n",
              "      <th>calculated_host_listings_count</th>\n",
              "      <td>0.098652</td>\n",
              "      <td>-0.041592</td>\n",
              "      <td>-0.015487</td>\n",
              "      <td>0.072929</td>\n",
              "      <td>1.000000</td>\n",
              "      <td>0.104913</td>\n",
              "    </tr>\n",
              "    <tr>\n",
              "      <th>availability_365</th>\n",
              "      <td>0.078570</td>\n",
              "      <td>-0.091857</td>\n",
              "      <td>-0.049726</td>\n",
              "      <td>0.127382</td>\n",
              "      <td>0.104913</td>\n",
              "      <td>1.000000</td>\n",
              "    </tr>\n",
              "  </tbody>\n",
              "</table>\n",
              "</div>\n",
              "      <button class=\"colab-df-convert\" onclick=\"convertToInteractive('df-590b6060-b73c-4b86-9e6b-37cbd062d1a7')\"\n",
              "              title=\"Convert this dataframe to an interactive table.\"\n",
              "              style=\"display:none;\">\n",
              "        \n",
              "  <svg xmlns=\"http://www.w3.org/2000/svg\" height=\"24px\"viewBox=\"0 0 24 24\"\n",
              "       width=\"24px\">\n",
              "    <path d=\"M0 0h24v24H0V0z\" fill=\"none\"/>\n",
              "    <path d=\"M18.56 5.44l.94 2.06.94-2.06 2.06-.94-2.06-.94-.94-2.06-.94 2.06-2.06.94zm-11 1L8.5 8.5l.94-2.06 2.06-.94-2.06-.94L8.5 2.5l-.94 2.06-2.06.94zm10 10l.94 2.06.94-2.06 2.06-.94-2.06-.94-.94-2.06-.94 2.06-2.06.94z\"/><path d=\"M17.41 7.96l-1.37-1.37c-.4-.4-.92-.59-1.43-.59-.52 0-1.04.2-1.43.59L10.3 9.45l-7.72 7.72c-.78.78-.78 2.05 0 2.83L4 21.41c.39.39.9.59 1.41.59.51 0 1.02-.2 1.41-.59l7.78-7.78 2.81-2.81c.8-.78.8-2.07 0-2.86zM5.41 20L4 18.59l7.72-7.72 1.47 1.35L5.41 20z\"/>\n",
              "  </svg>\n",
              "      </button>\n",
              "      \n",
              "  <style>\n",
              "    .colab-df-container {\n",
              "      display:flex;\n",
              "      flex-wrap:wrap;\n",
              "      gap: 12px;\n",
              "    }\n",
              "\n",
              "    .colab-df-convert {\n",
              "      background-color: #E8F0FE;\n",
              "      border: none;\n",
              "      border-radius: 50%;\n",
              "      cursor: pointer;\n",
              "      display: none;\n",
              "      fill: #1967D2;\n",
              "      height: 32px;\n",
              "      padding: 0 0 0 0;\n",
              "      width: 32px;\n",
              "    }\n",
              "\n",
              "    .colab-df-convert:hover {\n",
              "      background-color: #E2EBFA;\n",
              "      box-shadow: 0px 1px 2px rgba(60, 64, 67, 0.3), 0px 1px 3px 1px rgba(60, 64, 67, 0.15);\n",
              "      fill: #174EA6;\n",
              "    }\n",
              "\n",
              "    [theme=dark] .colab-df-convert {\n",
              "      background-color: #3B4455;\n",
              "      fill: #D2E3FC;\n",
              "    }\n",
              "\n",
              "    [theme=dark] .colab-df-convert:hover {\n",
              "      background-color: #434B5C;\n",
              "      box-shadow: 0px 1px 3px 1px rgba(0, 0, 0, 0.15);\n",
              "      filter: drop-shadow(0px 1px 2px rgba(0, 0, 0, 0.3));\n",
              "      fill: #FFFFFF;\n",
              "    }\n",
              "  </style>\n",
              "\n",
              "      <script>\n",
              "        const buttonEl =\n",
              "          document.querySelector('#df-590b6060-b73c-4b86-9e6b-37cbd062d1a7 button.colab-df-convert');\n",
              "        buttonEl.style.display =\n",
              "          google.colab.kernel.accessAllowed ? 'block' : 'none';\n",
              "\n",
              "        async function convertToInteractive(key) {\n",
              "          const element = document.querySelector('#df-590b6060-b73c-4b86-9e6b-37cbd062d1a7');\n",
              "          const dataTable =\n",
              "            await google.colab.kernel.invokeFunction('convertToInteractive',\n",
              "                                                     [key], {});\n",
              "          if (!dataTable) return;\n",
              "\n",
              "          const docLinkHtml = 'Like what you see? Visit the ' +\n",
              "            '<a target=\"_blank\" href=https://colab.research.google.com/notebooks/data_table.ipynb>data table notebook</a>'\n",
              "            + ' to learn more about interactive tables.';\n",
              "          element.innerHTML = '';\n",
              "          dataTable['output_type'] = 'display_data';\n",
              "          await google.colab.output.renderOutput(dataTable, element);\n",
              "          const docLink = document.createElement('div');\n",
              "          docLink.innerHTML = docLinkHtml;\n",
              "          element.appendChild(docLink);\n",
              "        }\n",
              "      </script>\n",
              "    </div>\n",
              "  </div>\n",
              "  "
            ]
          },
          "metadata": {}
        }
      ]
    },
    {
      "cell_type": "markdown",
      "source": [
        "Heatmap basicamente é um mapa de calor, é uma representação gráfica que mostra através cores diferentes valores.\n",
        "\n",
        "Aqui plotamos um heatmap a partir das correlações."
      ],
      "metadata": {
        "id": "OKj8X9xsK3Il"
      }
    },
    {
      "cell_type": "code",
      "metadata": {
        "id": "91UujDr6ueqE",
        "colab": {
          "base_uri": "https://localhost:8080/",
          "height": 411
        },
        "outputId": "5559d454-a1d8-4aed-82dd-4898d3c55e62"
      },
      "source": [
        "# plotar um heatmap a partir das correlações\n",
        "sns.heatmap(corr, cmap='RdBu', fmt='.2f', square=True, linecolor='white', annot=True);"
      ],
      "execution_count": 21,
      "outputs": [
        {
          "output_type": "display_data",
          "data": {
            "text/plain": [
              "<Figure size 432x288 with 2 Axes>"
            ],
            "image/png": "[encoded data removed]"
          },
          "metadata": {
            "needs_background": "light"
          }
        }
      ]
    },
    {
      "cell_type": "markdown",
      "metadata": {
        "id": "7b6RMWpuHKN-"
      },
      "source": [
        "### **Q5. Qual o tipo de imóvel mais alugado no Airbnb?**\n",
        "\n",
        "A coluna da variável `room_type` indica o tipo de locação que está anunciada no Airbnb. Se você já alugou no site, sabe que existem opções de apartamentos/casas inteiras, apenas o aluguel de um quarto ou mesmo dividir o quarto com outras pessoas.\n",
        "\n",
        "Vamos contar a quantidade de ocorrências de cada tipo de aluguel, usando o método `value_counts()`."
      ]
    },
    {
      "cell_type": "code",
      "metadata": {
        "id": "ueLPNWvPHgfB",
        "colab": {
          "base_uri": "https://localhost:8080/"
        },
        "outputId": "4c3bc03f-d651-4d07-bef1-284e9661eb5b"
      },
      "source": [
        "# mostrar a quantidade de cada tipo de imóvel disponível\n",
        "df_clean.room_type.value_counts()"
      ],
      "execution_count": 22,
      "outputs": [
        {
          "output_type": "execute_result",
          "data": {
            "text/plain": [
              "Entire home/apt    10202\n",
              "Private room        1247\n",
              "Shared room           81\n",
              "Hotel room            24\n",
              "Name: room_type, dtype: int64"
            ]
          },
          "metadata": {},
          "execution_count": 22
        }
      ]
    },
    {
      "cell_type": "code",
      "metadata": {
        "id": "EvwoO-XAHhIm",
        "colab": {
          "base_uri": "https://localhost:8080/"
        },
        "outputId": "d15f1379-cd7c-4908-ee65-b9e2056e63f4"
      },
      "source": [
        "# mostrar a porcentagem de cada tipo de imóvel disponível\n",
        "df_clean.room_type.value_counts() / df_clean.shape[0]"
      ],
      "execution_count": 23,
      "outputs": [
        {
          "output_type": "execute_result",
          "data": {
            "text/plain": [
              "Entire home/apt    0.882984\n",
              "Private room       0.107928\n",
              "Shared room        0.007011\n",
              "Hotel room         0.002077\n",
              "Name: room_type, dtype: float64"
            ]
          },
          "metadata": {},
          "execution_count": 23
        }
      ]
    },
    {
      "cell_type": "markdown",
      "metadata": {
        "id": "MFa5NbnLJMcd"
      },
      "source": [
        "### **Q6. Qual a localidade mais cara do dataset?**\n",
        "\n",
        "Uma maneira de se verificar uma variável em função da outra é usando `groupby()`. No caso, queremos comparar os bairros (*neighbourhoods*) a partir do preço de locação."
      ]
    },
    {
      "cell_type": "code",
      "metadata": {
        "id": "MD_xa143JZpi",
        "colab": {
          "base_uri": "https://localhost:8080/"
        },
        "outputId": "8f2490a7-ef68-4cfd-a099-7b0f48470ad7"
      },
      "source": [
        "# ver preços por bairros, na média\n",
        "df_clean.groupby(['neighbourhood']).price.mean().sort_values(ascending=False)[:10]"
      ],
      "execution_count": 24,
      "outputs": [
        {
          "output_type": "execute_result",
          "data": {
            "text/plain": [
              "neighbourhood\n",
              "Puerto Madero      15244.189474\n",
              "Velez Sarsfield     9934.500000\n",
              "Palermo             9476.078694\n",
              "Belgrano            8746.122483\n",
              "Recoleta            8637.190690\n",
              "Nuñez               8621.928889\n",
              "Retiro              8120.649326\n",
              "Villa Luro          8046.090909\n",
              "Colegiales          7966.954373\n",
              "Barracas            7961.330000\n",
              "Name: price, dtype: float64"
            ]
          },
          "metadata": {},
          "execution_count": 24
        }
      ]
    },
    {
      "cell_type": "markdown",
      "source": [
        "Acima, podemos ver que os bairros Puerto Madero, Palermo, Recoleta e Belgrano, são os bairros com maior valor para locação e também são os bairros mais nobres em Buenos Aires. \n"
      ],
      "metadata": {
        "id": "ouOKKGtnP2fF"
      }
    },
    {
      "cell_type": "code",
      "source": [
        "# ver quantidade de imóveis no Puerto Madero\n",
        "print(df_clean[df_clean.neighbourhood == \"Puerto Madero\"].shape)\n",
        "\n",
        "# ver as 5 entradas do Puerto Madero\n",
        "df_clean[df_clean.neighbourhood == \"Puerto Madero\"].head()"
      ],
      "metadata": {
        "colab": {
          "base_uri": "https://localhost:8080/",
          "height": 635
        },
        "id": "2FhbOIjrS0PM",
        "outputId": "64d8f2cb-3708-4e01-f387-e24f4765d13d"
      },
      "execution_count": 25,
      "outputs": [
        {
          "output_type": "stream",
          "name": "stdout",
          "text": [
            "(95, 16)\n"
          ]
        },
        {
          "output_type": "execute_result",
          "data": {
            "text/plain": [
              "           id                                         name   host_id  \\\n",
              "404    699486          Studio @ Puerto Madero Buenos Aires    719967   \n",
              "854   2059189  Apartment puerto madero,  buenos aires city    908033   \n",
              "1139  3646087          Nice apartment at Faena Los Molinos  17848912   \n",
              "1289  4650512        Apart 5★ Amoblado Puerto Madero-Rio V  23825436   \n",
              "1296  4652203       Apart 5★ Amoblado Puerto Madero-Brisas  23825436   \n",
              "\n",
              "     host_name  neighbourhood  latitude  longitude        room_type    price  \\\n",
              "404    Nicolas  Puerto Madero -34.62021  -58.36015  Entire home/apt   7048.0   \n",
              "854      Heidi  Puerto Madero -34.61912  -58.36120  Entire home/apt  12334.0   \n",
              "1139    Andres  Puerto Madero -34.61093  -58.36314  Entire home/apt  13214.0   \n",
              "1289   Horacio  Puerto Madero -34.61644  -58.36123  Entire home/apt  14095.0   \n",
              "1296   Horacio  Puerto Madero -34.61754  -58.36282  Entire home/apt   7048.0   \n",
              "\n",
              "      minimum_nights  number_of_reviews last_review  reviews_per_month  \\\n",
              "404                5                 26  2021-06-24               0.24   \n",
              "854                1                 13  2020-03-18               0.12   \n",
              "1139               4                 29  2022-07-24               0.34   \n",
              "1289               3                  1  2015-09-10               0.01   \n",
              "1296               3                  1  2022-01-06               0.08   \n",
              "\n",
              "      calculated_host_listings_count  availability_365  number_of_reviews_ltm  \n",
              "404                                1               261                      0  \n",
              "854                                1               146                      0  \n",
              "1139                               1               242                      1  \n",
              "1289                               2               226                      0  \n",
              "1296                               2                16                      1  "
            ],
            "text/html": [
              "\n",
              "  <div id=\"df-ee9d21a3-a264-409d-95ca-4108dd175eb9\">\n",
              "    <div class=\"colab-df-container\">\n",
              "      <div>\n",
              "<style scoped>\n",
              "    .dataframe tbody tr th:only-of-type {\n",
              "        vertical-align: middle;\n",
              "    }\n",
              "\n",
              "    .dataframe tbody tr th {\n",
              "        vertical-align: top;\n",
              "    }\n",
              "\n",
              "    .dataframe thead th {\n",
              "        text-align: right;\n",
              "    }\n",
              "</style>\n",
              "<table border=\"1\" class=\"dataframe\">\n",
              "  <thead>\n",
              "    <tr style=\"text-align: right;\">\n",
              "      <th></th>\n",
              "      <th>id</th>\n",
              "      <th>name</th>\n",
              "      <th>host_id</th>\n",
              "      <th>host_name</th>\n",
              "      <th>neighbourhood</th>\n",
              "      <th>latitude</th>\n",
              "      <th>longitude</th>\n",
              "      <th>room_type</th>\n",
              "      <th>price</th>\n",
              "      <th>minimum_nights</th>\n",
              "      <th>number_of_reviews</th>\n",
              "      <th>last_review</th>\n",
              "      <th>reviews_per_month</th>\n",
              "      <th>calculated_host_listings_count</th>\n",
              "      <th>availability_365</th>\n",
              "      <th>number_of_reviews_ltm</th>\n",
              "    </tr>\n",
              "  </thead>\n",
              "  <tbody>\n",
              "    <tr>\n",
              "      <th>404</th>\n",
              "      <td>699486</td>\n",
              "      <td>Studio @ Puerto Madero Buenos Aires</td>\n",
              "      <td>719967</td>\n",
              "      <td>Nicolas</td>\n",
              "      <td>Puerto Madero</td>\n",
              "      <td>-34.62021</td>\n",
              "      <td>-58.36015</td>\n",
              "      <td>Entire home/apt</td>\n",
              "      <td>7048.0</td>\n",
              "      <td>5</td>\n",
              "      <td>26</td>\n",
              "      <td>2021-06-24</td>\n",
              "      <td>0.24</td>\n",
              "      <td>1</td>\n",
              "      <td>261</td>\n",
              "      <td>0</td>\n",
              "    </tr>\n",
              "    <tr>\n",
              "      <th>854</th>\n",
              "      <td>2059189</td>\n",
              "      <td>Apartment puerto madero,  buenos aires city</td>\n",
              "      <td>908033</td>\n",
              "      <td>Heidi</td>\n",
              "      <td>Puerto Madero</td>\n",
              "      <td>-34.61912</td>\n",
              "      <td>-58.36120</td>\n",
              "      <td>Entire home/apt</td>\n",
              "      <td>12334.0</td>\n",
              "      <td>1</td>\n",
              "      <td>13</td>\n",
              "      <td>2020-03-18</td>\n",
              "      <td>0.12</td>\n",
              "      <td>1</td>\n",
              "      <td>146</td>\n",
              "      <td>0</td>\n",
              "    </tr>\n",
              "    <tr>\n",
              "      <th>1139</th>\n",
              "      <td>3646087</td>\n",
              "      <td>Nice apartment at Faena Los Molinos</td>\n",
              "      <td>17848912</td>\n",
              "      <td>Andres</td>\n",
              "      <td>Puerto Madero</td>\n",
              "      <td>-34.61093</td>\n",
              "      <td>-58.36314</td>\n",
              "      <td>Entire home/apt</td>\n",
              "      <td>13214.0</td>\n",
              "      <td>4</td>\n",
              "      <td>29</td>\n",
              "      <td>2022-07-24</td>\n",
              "      <td>0.34</td>\n",
              "      <td>1</td>\n",
              "      <td>242</td>\n",
              "      <td>1</td>\n",
              "    </tr>\n",
              "    <tr>\n",
              "      <th>1289</th>\n",
              "      <td>4650512</td>\n",
              "      <td>Apart 5★ Amoblado Puerto Madero-Rio V</td>\n",
              "      <td>23825436</td>\n",
              "      <td>Horacio</td>\n",
              "      <td>Puerto Madero</td>\n",
              "      <td>-34.61644</td>\n",
              "      <td>-58.36123</td>\n",
              "      <td>Entire home/apt</td>\n",
              "      <td>14095.0</td>\n",
              "      <td>3</td>\n",
              "      <td>1</td>\n",
              "      <td>2015-09-10</td>\n",
              "      <td>0.01</td>\n",
              "      <td>2</td>\n",
              "      <td>226</td>\n",
              "      <td>0</td>\n",
              "    </tr>\n",
              "    <tr>\n",
              "      <th>1296</th>\n",
              "      <td>4652203</td>\n",
              "      <td>Apart 5★ Amoblado Puerto Madero-Brisas</td>\n",
              "      <td>23825436</td>\n",
              "      <td>Horacio</td>\n",
              "      <td>Puerto Madero</td>\n",
              "      <td>-34.61754</td>\n",
              "      <td>-58.36282</td>\n",
              "      <td>Entire home/apt</td>\n",
              "      <td>7048.0</td>\n",
              "      <td>3</td>\n",
              "      <td>1</td>\n",
              "      <td>2022-01-06</td>\n",
              "      <td>0.08</td>\n",
              "      <td>2</td>\n",
              "      <td>16</td>\n",
              "      <td>1</td>\n",
              "    </tr>\n",
              "  </tbody>\n",
              "</table>\n",
              "</div>\n",
              "      <button class=\"colab-df-convert\" onclick=\"convertToInteractive('df-ee9d21a3-a264-409d-95ca-4108dd175eb9')\"\n",
              "              title=\"Convert this dataframe to an interactive table.\"\n",
              "              style=\"display:none;\">\n",
              "        \n",
              "  <svg xmlns=\"http://www.w3.org/2000/svg\" height=\"24px\"viewBox=\"0 0 24 24\"\n",
              "       width=\"24px\">\n",
              "    <path d=\"M0 0h24v24H0V0z\" fill=\"none\"/>\n",
              "    <path d=\"M18.56 5.44l.94 2.06.94-2.06 2.06-.94-2.06-.94-.94-2.06-.94 2.06-2.06.94zm-11 1L8.5 8.5l.94-2.06 2.06-.94-2.06-.94L8.5 2.5l-.94 2.06-2.06.94zm10 10l.94 2.06.94-2.06 2.06-.94-2.06-.94-.94-2.06-.94 2.06-2.06.94z\"/><path d=\"M17.41 7.96l-1.37-1.37c-.4-.4-.92-.59-1.43-.59-.52 0-1.04.2-1.43.59L10.3 9.45l-7.72 7.72c-.78.78-.78 2.05 0 2.83L4 21.41c.39.39.9.59 1.41.59.51 0 1.02-.2 1.41-.59l7.78-7.78 2.81-2.81c.8-.78.8-2.07 0-2.86zM5.41 20L4 18.59l7.72-7.72 1.47 1.35L5.41 20z\"/>\n",
              "  </svg>\n",
              "      </button>\n",
              "      \n",
              "  <style>\n",
              "    .colab-df-container {\n",
              "      display:flex;\n",
              "      flex-wrap:wrap;\n",
              "      gap: 12px;\n",
              "    }\n",
              "\n",
              "    .colab-df-convert {\n",
              "      background-color: #E8F0FE;\n",
              "      border: none;\n",
              "      border-radius: 50%;\n",
              "      cursor: pointer;\n",
              "      display: none;\n",
              "      fill: #1967D2;\n",
              "      height: 32px;\n",
              "      padding: 0 0 0 0;\n",
              "      width: 32px;\n",
              "    }\n",
              "\n",
              "    .colab-df-convert:hover {\n",
              "      background-color: #E2EBFA;\n",
              "      box-shadow: 0px 1px 2px rgba(60, 64, 67, 0.3), 0px 1px 3px 1px rgba(60, 64, 67, 0.15);\n",
              "      fill: #174EA6;\n",
              "    }\n",
              "\n",
              "    [theme=dark] .colab-df-convert {\n",
              "      background-color: #3B4455;\n",
              "      fill: #D2E3FC;\n",
              "    }\n",
              "\n",
              "    [theme=dark] .colab-df-convert:hover {\n",
              "      background-color: #434B5C;\n",
              "      box-shadow: 0px 1px 3px 1px rgba(0, 0, 0, 0.15);\n",
              "      filter: drop-shadow(0px 1px 2px rgba(0, 0, 0, 0.3));\n",
              "      fill: #FFFFFF;\n",
              "    }\n",
              "  </style>\n",
              "\n",
              "      <script>\n",
              "        const buttonEl =\n",
              "          document.querySelector('#df-ee9d21a3-a264-409d-95ca-4108dd175eb9 button.colab-df-convert');\n",
              "        buttonEl.style.display =\n",
              "          google.colab.kernel.accessAllowed ? 'block' : 'none';\n",
              "\n",
              "        async function convertToInteractive(key) {\n",
              "          const element = document.querySelector('#df-ee9d21a3-a264-409d-95ca-4108dd175eb9');\n",
              "          const dataTable =\n",
              "            await google.colab.kernel.invokeFunction('convertToInteractive',\n",
              "                                                     [key], {});\n",
              "          if (!dataTable) return;\n",
              "\n",
              "          const docLinkHtml = 'Like what you see? Visit the ' +\n",
              "            '<a target=\"_blank\" href=https://colab.research.google.com/notebooks/data_table.ipynb>data table notebook</a>'\n",
              "            + ' to learn more about interactive tables.';\n",
              "          element.innerHTML = '';\n",
              "          dataTable['output_type'] = 'display_data';\n",
              "          await google.colab.output.renderOutput(dataTable, element);\n",
              "          const docLink = document.createElement('div');\n",
              "          docLink.innerHTML = docLinkHtml;\n",
              "          element.appendChild(docLink);\n",
              "        }\n",
              "      </script>\n",
              "    </div>\n",
              "  </div>\n",
              "  "
            ]
          },
          "metadata": {},
          "execution_count": 25
        }
      ]
    },
    {
      "cell_type": "markdown",
      "source": [
        "Podemos identificar que em Puerto Madero existem 95 imóveis para alugar."
      ],
      "metadata": {
        "id": "Lg300OfdNTKs"
      }
    },
    {
      "cell_type": "markdown",
      "source": [
        "Como são fornecidas as Latitudes e Longitudes para os imóveis, é possível plotar cada ponto. Para isso, considera-se `x=longitude` e `y=latitude`.\n",
        "\n",
        "Aqui podemos ver um gráfico com as localizações dos imóveis disponíveis no Airbnb através latitude e longitude."
      ],
      "metadata": {
        "id": "L-o_YERwV90M"
      }
    },
    {
      "cell_type": "code",
      "metadata": {
        "id": "UxVJqJ_3W59I",
        "colab": {
          "base_uri": "https://localhost:8080/",
          "height": 469
        },
        "outputId": "9eea49cf-59b3-4c51-889c-0b34d76ce878"
      },
      "source": [
        "# plotar os imóveis pela latitude-longitude\n",
        "df_clean.plot(kind=\"scatter\", x='longitude', y='latitude', alpha=0.4, c=df_clean['price'], s=8,\n",
        "              cmap=plt.get_cmap('jet'), figsize=(10,8));"
      ],
      "execution_count": 26,
      "outputs": [
        {
          "output_type": "display_data",
          "data": {
            "text/plain": [
              "<Figure size 720x576 with 2 Axes>"
            ],
            "image/png": "[encoded data removed]"
          },
          "metadata": {
            "needs_background": "light"
          }
        }
      ]
    },
    {
      "cell_type": "markdown",
      "metadata": {
        "id": "vTneAMRUYvr1"
      },
      "source": [
        "### **Q7. Qual é a média do mínimo de noites para aluguel (minimum_nights)?**\n",
        "\n",
        "Aqui vamos verificar a quantidade média de noites alugada pelos hospedes. "
      ]
    },
    {
      "cell_type": "code",
      "metadata": {
        "id": "_VzNhrEgY82N",
        "colab": {
          "base_uri": "https://localhost:8080/"
        },
        "outputId": "9f306196-e5ef-452a-97c9-84fac8bd1d50"
      },
      "source": [
        "# ver a média da coluna `minimum_nights``\n",
        "df_clean.minimum_nights.mean()"
      ],
      "execution_count": 27,
      "outputs": [
        {
          "output_type": "execute_result",
          "data": {
            "text/plain": [
              "2.976977670070971"
            ]
          },
          "metadata": {},
          "execution_count": 27
        }
      ]
    },
    {
      "cell_type": "markdown",
      "metadata": {
        "id": "GkvAg623RjoR"
      },
      "source": [
        "## Conclusões\n"
      ]
    },
    {
      "cell_type": "markdown",
      "metadata": {
        "id": "rbZ3Hsy9Ypw8"
      },
      "source": [
        "Essa análise foi feita de forma superficial com a base de dados fornecida pela plataforma online do Airbnb, onde foi possível observar que existem *outliers* em algumas variáveis. Para concluir a análise foi executada uma limpeza no *dataframe* levando em consideração os dados originais \n",
        "\n",
        "**Abaixo as conclusões da análise:**\n",
        "\n",
        "Buenos Aires é uma cidade muito procurada pelos turistas, cheia de cultura e com muitas coisas para oferecer. As pessoas gostam da cidade por sua rica herança cultural, culinária variada, vida noturna agitada, arquitetura, história e seu estilo de vida descontraído.\n",
        "\n",
        "Ao todo são **20.085** anúncios de imóveis na plataforma Airbnb, levando em consideração que o mesmo anfitrião pode ter mais que um anúncio por imóvel (alugar o imóvel inteiro ou quartos individuais).\n",
        "\n",
        "Os bairros mais nobres como: Puerto Madero, Palermo, Recoleta e Belgrano, são os com maior valor para locação. A procura para locação de casas / apartamentos inteiros é cerca de **88%** enquanto que para quarto privativo é de 10%. \n",
        "\n",
        "A média de preço das diárias é de **R$ 228,18 / ARS 8299.272373204085** e a média de noites para aluguel é de 3 diárias. Foi possível observar muitas opções de imóveis espalhados por toda a cidade.\n",
        "\n",
        "Por fim, lembra-se que este *dataset* é uma versão resumida, apenas para uma pesquisa inicial. Para uma próxima análise é recomendado que a base de dados seja a mais completa `listings.csv.gz` e assim podemos chegar a uma conclusão com mais propriedade das informações.\n",
        "\n",
        "\n",
        "\n"
      ]
    }
  ]
}